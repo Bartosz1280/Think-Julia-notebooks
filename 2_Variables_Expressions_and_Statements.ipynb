{
 "cells": [
  {
   "cell_type": "markdown",
   "id": "a675023e-9bf1-4da6-a34f-19f024774252",
   "metadata": {},
   "source": [
    "# 2. Variables, Expressions and Statements"
   ]
  },
  {
   "cell_type": "markdown",
   "id": "3eb0b51d-42d4-4fee-bff9-742d10cd4489",
   "metadata": {},
   "source": [
    "## String operations in Julia\n"
   ]
  },
  {
   "cell_type": "code",
   "execution_count": 2,
   "id": "454f24d6-2993-4188-b28d-c5dcf1800e10",
   "metadata": {},
   "outputs": [],
   "source": [
    "first_str = \"throat\"\n",
    "second_str = \"warbler\";"
   ]
  },
  {
   "cell_type": "code",
   "execution_count": 3,
   "id": "d4d68d1a-8036-4328-9142-0d38c073f2b5",
   "metadata": {},
   "outputs": [
    {
     "data": {
      "text/plain": [
       "\"throatwarbler\""
      ]
     },
     "execution_count": 3,
     "metadata": {},
     "output_type": "execute_result"
    }
   ],
   "source": [
    "# STRING CONCATENATION\n",
    "first_str * second_str"
   ]
  },
  {
   "cell_type": "code",
   "execution_count": 4,
   "id": "78130a3c-49e1-4763-ad91-da9b5c9f24a7",
   "metadata": {},
   "outputs": [
    {
     "data": {
      "text/plain": [
       "\"SpamSpamSpam\""
      ]
     },
     "execution_count": 4,
     "metadata": {},
     "output_type": "execute_result"
    }
   ],
   "source": [
    "# REPETITION\n",
    "\"Spam\"^3"
   ]
  },
  {
   "cell_type": "code",
   "execution_count": 5,
   "id": "93ef14e7-193c-466f-921b-6d26208b0ed4",
   "metadata": {},
   "outputs": [
    {
     "data": {
      "text/plain": [
       "'S': ASCII/Unicode U+0053 (category Lu: Letter, uppercase)"
      ]
     },
     "execution_count": 5,
     "metadata": {},
     "output_type": "execute_result"
    }
   ],
   "source": [
    "# INDEXING\n",
    "\"Spam\"[1]"
   ]
  },
  {
   "cell_type": "code",
   "execution_count": 6,
   "id": "b10aeb0f-993d-4f36-8b80-0f62f2fa4bbf",
   "metadata": {},
   "outputs": [
    {
     "data": {
      "text/plain": [
       "\"Spa\""
      ]
     },
     "execution_count": 6,
     "metadata": {},
     "output_type": "execute_result"
    }
   ],
   "source": [
    "# SECTIONING\n",
    "\"Spam\"[1:3]"
   ]
  }
 ],
 "metadata": {
  "kernelspec": {
   "display_name": "Julia 1.8.5",
   "language": "julia",
   "name": "julia-1.8"
  },
  "language_info": {
   "file_extension": ".jl",
   "mimetype": "application/julia",
   "name": "julia",
   "version": "1.8.5"
  }
 },
 "nbformat": 4,
 "nbformat_minor": 5
}
