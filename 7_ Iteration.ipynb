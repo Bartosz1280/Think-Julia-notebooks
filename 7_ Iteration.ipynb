{
 "cells": [
  {
   "cell_type": "markdown",
   "id": "334e9c90-3d4a-4788-b2b8-84a60d5d5be8",
   "metadata": {},
   "source": [
    "# 7. Iteration"
   ]
  },
  {
   "cell_type": "code",
   "execution_count": 1,
   "id": "6bd5ab67-59b8-4a1b-847b-c96ccdc736f4",
   "metadata": {},
   "outputs": [
    {
     "data": {
      "text/plain": [
       "\"Two\""
      ]
     },
     "execution_count": 1,
     "metadata": {},
     "output_type": "execute_result"
    }
   ],
   "source": [
    "# Variables in Julia are mutable\n",
    "a = 2\n",
    "a = \"Two\""
   ]
  },
  {
   "cell_type": "code",
   "execution_count": 2,
   "id": "6dee7f41-0537-4b0f-84e1-ef6b0853fc7c",
   "metadata": {},
   "outputs": [
    {
     "data": {
      "text/plain": [
       "4"
      ]
     },
     "execution_count": 2,
     "metadata": {},
     "output_type": "execute_result"
    }
   ],
   "source": [
    "# Varaibles values can be updated\n",
    "# If the variable is already defined\n",
    "x = 2\n",
    "x = x + 2"
   ]
  },
  {
   "cell_type": "markdown",
   "id": "2c4909e6-bc08-4ea3-8d25-32f7a100d09e",
   "metadata": {},
   "source": [
    "### For loop iteration"
   ]
  },
  {
   "cell_type": "code",
   "execution_count": 12,
   "id": "44c240a0-3380-466c-bd76-3dab50be5370",
   "metadata": {},
   "outputs": [
    {
     "name": "stdout",
     "output_type": "stream",
     "text": [
      "s\n",
      "t\n",
      "r\n",
      "i\n",
      "n\n",
      "g\n"
     ]
    }
   ],
   "source": [
    "for i in \"string\"\n",
    "    println(i)\n",
    "end"
   ]
  },
  {
   "cell_type": "markdown",
   "id": "72dda112-1641-4d4f-b8ea-800d966872e6",
   "metadata": {},
   "source": [
    "### While loop"
   ]
  },
  {
   "cell_type": "code",
   "execution_count": 6,
   "id": "cacd90d3-e1c0-4c77-ab37-5d6ba82e49e3",
   "metadata": {},
   "outputs": [
    {
     "data": {
      "text/plain": [
       "countdown (generic function with 1 method)"
      ]
     },
     "execution_count": 6,
     "metadata": {},
     "output_type": "execute_result"
    }
   ],
   "source": [
    "function countdown(n)\n",
    "    while n > 0  # Executed as long as the codition is met\n",
    "        print(n,\" \")\n",
    "        n = n -1\n",
    "    end # End statment of while\n",
    "    println(\"Blatstoff!\")\n",
    "end # End statment of the functipn"
   ]
  },
  {
   "cell_type": "code",
   "execution_count": 4,
   "id": "619a3d03-4f6a-44f9-9f23-7e7dcb3acc84",
   "metadata": {},
   "outputs": [
    {
     "name": "stdout",
     "output_type": "stream",
     "text": [
      "5 4 3 2 1 Blatstoff!\n"
     ]
    }
   ],
   "source": [
    "countdown(5)"
   ]
  },
  {
   "cell_type": "markdown",
   "id": "cb9267a4-676f-493f-84e9-1c2a80069cd5",
   "metadata": {},
   "source": [
    "### Break statments"
   ]
  },
  {
   "cell_type": "code",
   "execution_count": 5,
   "id": "57a54ad5-7674-4e8e-8401-6aa510a20554",
   "metadata": {},
   "outputs": [
    {
     "name": "stdout",
     "output_type": "stream",
     "text": [
      ">  "
     ]
    },
    {
     "name": "stdin",
     "output_type": "stream",
     "text": [
      "stdin>  \n"
     ]
    },
    {
     "name": "stdout",
     "output_type": "stream",
     "text": [
      "\n",
      ">  "
     ]
    },
    {
     "name": "stdin",
     "output_type": "stream",
     "text": [
      "stdin>  something\n"
     ]
    },
    {
     "name": "stdout",
     "output_type": "stream",
     "text": [
      "something\n",
      ">  "
     ]
    },
    {
     "name": "stdin",
     "output_type": "stream",
     "text": [
      "stdin>  done\n"
     ]
    },
    {
     "name": "stdout",
     "output_type": "stream",
     "text": [
      "Done!\n"
     ]
    }
   ],
   "source": [
    "while true\n",
    "    print(\">  \")\n",
    "    line = readline()\n",
    "    if line == \"done\"\n",
    "        break  # Stops while loop\n",
    "    end\n",
    "    println(line)\n",
    "end\n",
    "println(\"Done!\")"
   ]
  },
  {
   "cell_type": "markdown",
   "id": "ef2e7dbc-987d-481e-bd0e-2b037ba763ff",
   "metadata": {},
   "source": [
    "### Continue statments"
   ]
  },
  {
   "cell_type": "code",
   "execution_count": 10,
   "id": "c98934f8-228a-45a5-97df-bc681500a473",
   "metadata": {},
   "outputs": [
    {
     "name": "stdout",
     "output_type": "stream",
     "text": [
      "1 2 4 5 7 8 10 "
     ]
    }
   ],
   "source": [
    "for i in 1:10\n",
    "    if i % 3 == 0\n",
    "        continue\n",
    "    end\n",
    "    print(i,\" \")\n",
    "end"
   ]
  }
 ],
 "metadata": {
  "kernelspec": {
   "display_name": "Julia 1.8.5",
   "language": "julia",
   "name": "julia-1.8"
  },
  "language_info": {
   "file_extension": ".jl",
   "mimetype": "application/julia",
   "name": "julia",
   "version": "1.8.5"
  }
 },
 "nbformat": 4,
 "nbformat_minor": 5
}
