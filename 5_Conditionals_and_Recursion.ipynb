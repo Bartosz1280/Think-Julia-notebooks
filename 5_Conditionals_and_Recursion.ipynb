{
 "cells": [
  {
   "cell_type": "markdown",
   "id": "da669474-7386-4fbe-98e3-1049b44ee48c",
   "metadata": {},
   "source": [
    "# 5. Conditionals and Recursion"
   ]
  },
  {
   "cell_type": "code",
   "execution_count": 2,
   "id": "32d269b4-dedb-4ba5-8ed6-feb9263d5c05",
   "metadata": {},
   "outputs": [
    {
     "name": "stdout",
     "output_type": "stream",
     "text": [
      "x and y are equal\n"
     ]
    }
   ],
   "source": [
    "# GENRTAL STRUCTURE\n",
    "\n",
    "x = 2\n",
    "y = 2\n",
    "\n",
    "# Main condition\n",
    "if x > y\n",
    "    println(\"x is greater than y\")\n",
    "# Alternative coditon\n",
    "elseif x < y\n",
    "    println(\"x is less than y\")\n",
    "# Any other case\n",
    "else\n",
    "    println(\"x and y are equal\")\n",
    "# End of coditional statment\n",
    "end "
   ]
  },
  {
   "cell_type": "code",
   "execution_count": 3,
   "id": "3f61001e-7780-4058-927e-aa820bfa9a95",
   "metadata": {},
   "outputs": [
    {
     "name": "stdout",
     "output_type": "stream",
     "text": [
      "x is less than y\n"
     ]
    }
   ],
   "source": [
    "# NESTED CODITIONS\n",
    "\n",
    "x = 2\n",
    "y = 3\n",
    "\n",
    "# Main codtion\n",
    "if x == y\n",
    "    println(\"x and y are equal\")\n",
    "else\n",
    "    # Nested conditions\n",
    "    if x < y\n",
    "        println(\"x is less than y\")\n",
    "    else\n",
    "        println(\"x is greater than y\")\n",
    "    end # End of the nested codition\n",
    "end # End of the main codition"
   ]
  },
  {
   "cell_type": "code",
   "execution_count": 4,
   "id": "767910ae-d894-4429-a440-5f12733cbf6f",
   "metadata": {},
   "outputs": [
    {
     "name": "stdout",
     "output_type": "stream",
     "text": [
      "At least one variable is negative"
     ]
    }
   ],
   "source": [
    "# CODTIONS WITH OTHER LOGIC OPERATORS\n",
    "\n",
    "x = 2\n",
    "y = -2\n",
    "\n",
    "if x > 0 && y > 0 && x == y # &&  - both coditions needs to occure\n",
    "    println(\"x and y are positive and equal\")\n",
    "elseif x < 0 || y < 0 # || - codition or codition\n",
    "    print(\"At least one variable is negative\")\n",
    "elseif x != y # != not equal\n",
    "    if x >= y\n",
    "        println(\"x is higher than y\")\n",
    "    else\n",
    "        println(\"x is less than y\")\n",
    "    end\n",
    "end\n"
   ]
  },
  {
   "cell_type": "code",
   "execution_count": 5,
   "id": "674cd690-0d05-4c2f-8290-89785f92c0ab",
   "metadata": {},
   "outputs": [
    {
     "name": "stdout",
     "output_type": "stream",
     "text": [
      "8 7 6 5 4 3 2 1 Blastoff!\n"
     ]
    }
   ],
   "source": [
    "# RECURSION - FUNCTION CALL ITSELF\n",
    "\n",
    "function countdown(n)\n",
    "    if n ≤ 0\n",
    "        println(\"Blastoff!\")\n",
    "    else\n",
    "        print(n, \" \")\n",
    "        countdown(n-1) # Calling itself within a functionbody\n",
    "    end\n",
    "end\n",
    "\n",
    "countdown(8)"
   ]
  },
  {
   "cell_type": "markdown",
   "id": "aab8cffc-6649-496b-b5bc-f63a4dd7628a",
   "metadata": {},
   "source": [
    "### Keyboard input"
   ]
  },
  {
   "cell_type": "code",
   "execution_count": 7,
   "id": "cd380836-3d1b-48a7-afcf-bc3abdd08b02",
   "metadata": {},
   "outputs": [
    {
     "name": "stdin",
     "output_type": "stream",
     "text": [
      "stdin>  input\n"
     ]
    },
    {
     "data": {
      "text/plain": [
       "\"input\""
      ]
     },
     "execution_count": 7,
     "metadata": {},
     "output_type": "execute_result"
    }
   ],
   "source": [
    "# Passing a string as an arugment for readline()\n",
    "# will cause an error\n",
    "text = readline()"
   ]
  },
  {
   "cell_type": "code",
   "execution_count": 9,
   "id": "73c7d0d1-aac3-4355-b183-12a1986018e8",
   "metadata": {},
   "outputs": [
    {
     "name": "stdout",
     "output_type": "stream",
     "text": [
      "Give me some input\n"
     ]
    },
    {
     "name": "stdin",
     "output_type": "stream",
     "text": [
      "stdin>  my input\n"
     ]
    },
    {
     "data": {
      "text/plain": [
       "\"my input\""
      ]
     },
     "execution_count": 9,
     "metadata": {},
     "output_type": "execute_result"
    }
   ],
   "source": [
    "# To display a message before asking for\n",
    "# a keyboard  input println needs to executed\n",
    "\n",
    "println(\"Give me some input\"); keyboar_input = readline() # Can be separated into two lines as well"
   ]
  },
  {
   "cell_type": "code",
   "execution_count": null,
   "id": "9b69a89a-ca2d-443a-9985-5585dc4cba5c",
   "metadata": {},
   "outputs": [],
   "source": []
  }
 ],
 "metadata": {
  "kernelspec": {
   "display_name": "Julia 1.8.5",
   "language": "julia",
   "name": "julia-1.8"
  },
  "language_info": {
   "file_extension": ".jl",
   "mimetype": "application/julia",
   "name": "julia",
   "version": "1.8.5"
  }
 },
 "nbformat": 4,
 "nbformat_minor": 5
}
