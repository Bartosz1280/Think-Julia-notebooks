{
 "cells": [
  {
   "cell_type": "markdown",
   "id": "6ae26da5-8290-4dcb-8de3-ecbca9ac33d7",
   "metadata": {
    "tags": []
   },
   "source": [
    "### Data Types conversions"
   ]
  },
  {
   "cell_type": "code",
   "execution_count": 158,
   "id": "2e2eaf06-0909-4bf2-be32-c57bb7fc7391",
   "metadata": {},
   "outputs": [
    {
     "data": {
      "text/plain": [
       "32"
      ]
     },
     "execution_count": 158,
     "metadata": {},
     "output_type": "execute_result"
    }
   ],
   "source": [
    "# DATATYPE CONVERSION\n",
    "\n",
    "# Pase converts strings to numerical values\n",
    "parse(Int64,\"32\")"
   ]
  },
  {
   "cell_type": "code",
   "execution_count": 159,
   "id": "48a55b6c-1c07-4d6d-a441-8b0e498094a6",
   "metadata": {},
   "outputs": [
    {
     "data": {
      "text/plain": [
       "3.1425"
      ]
     },
     "execution_count": 159,
     "metadata": {},
     "output_type": "execute_result"
    }
   ],
   "source": [
    "parse(Float64,\"3.1425\")"
   ]
  },
  {
   "cell_type": "code",
   "execution_count": 160,
   "id": "3c420ed2-85f4-4517-8e48-2517ef1e931b",
   "metadata": {},
   "outputs": [
    {
     "data": {
      "text/plain": [
       "3"
      ]
     },
     "execution_count": 160,
     "metadata": {},
     "output_type": "execute_result"
    }
   ],
   "source": [
    "# CONVERSION OF FLOATING POINT TO INTEGERS\n",
    "\n",
    "# trunc doesn't round up the float\n",
    "# but just cut the end\n",
    "trunc(Int64,3.999)"
   ]
  },
  {
   "cell_type": "code",
   "execution_count": 161,
   "id": "4427e05b-64ca-4a02-80b3-a03ff0e6dc66",
   "metadata": {},
   "outputs": [
    {
     "data": {
      "text/plain": [
       "32.0"
      ]
     },
     "execution_count": 161,
     "metadata": {},
     "output_type": "execute_result"
    }
   ],
   "source": [
    "# CONVERSION OF INTEGER TO FLOATING POINT\n",
    "\n",
    "float(32)"
   ]
  },
  {
   "cell_type": "code",
   "execution_count": 162,
   "id": "1a6f7f97-4e25-4815-9d10-c6740f0b2346",
   "metadata": {},
   "outputs": [
    {
     "data": {
      "text/plain": [
       "\"32\""
      ]
     },
     "execution_count": 162,
     "metadata": {},
     "output_type": "execute_result"
    }
   ],
   "source": [
    "# CONVERSION OF NUMERICAL VALUES TO STRINGS\n",
    "\n",
    "string(32)"
   ]
  },
  {
   "cell_type": "code",
   "execution_count": 163,
   "id": "e3c320bc-cdc8-4833-ad63-beffce4d34e0",
   "metadata": {},
   "outputs": [
    {
     "data": {
      "text/plain": [
       "\"43.3\""
      ]
     },
     "execution_count": 163,
     "metadata": {},
     "output_type": "execute_result"
    }
   ],
   "source": [
    "string(43.3)"
   ]
  },
  {
   "cell_type": "markdown",
   "id": "050cea84-f268-4cee-af25-227a8fd3ff40",
   "metadata": {},
   "source": [
    "### Math functions"
   ]
  },
  {
   "cell_type": "code",
   "execution_count": 164,
   "id": "5a858116-42fa-47fe-86c8-8fd212908f58",
   "metadata": {},
   "outputs": [
    {
     "data": {
      "text/plain": [
       "1.3010299956639813"
      ]
     },
     "execution_count": 164,
     "metadata": {},
     "output_type": "execute_result"
    }
   ],
   "source": [
    "# Logarithms\n",
    "log10(20)"
   ]
  },
  {
   "cell_type": "code",
   "execution_count": 165,
   "id": "74b833aa-3acd-4a88-b292-fd2c33a77cd8",
   "metadata": {},
   "outputs": [
    {
     "data": {
      "text/plain": [
       "0.7071067811865475"
      ]
     },
     "execution_count": 165,
     "metadata": {},
     "output_type": "execute_result"
    }
   ],
   "source": [
    "# Trigonometric\n",
    "degrees = 45\n",
    "radians = degrees / 180 * π\n",
    "sin(radians)"
   ]
  },
  {
   "cell_type": "code",
   "execution_count": 166,
   "id": "ff9a1de7-4f7e-448a-ad25-babcbd6dfd50",
   "metadata": {},
   "outputs": [
    {
     "data": {
      "text/plain": [
       "2.0"
      ]
     },
     "execution_count": 166,
     "metadata": {},
     "output_type": "execute_result"
    }
   ],
   "source": [
    "# Square root\n",
    "sqrt(4)"
   ]
  },
  {
   "cell_type": "code",
   "execution_count": 167,
   "id": "2f2f3364-c168-4bc6-9a2a-cca8f4f15c48",
   "metadata": {},
   "outputs": [
    {
     "data": {
      "text/plain": [
       "7.38905609893065"
      ]
     },
     "execution_count": 167,
     "metadata": {},
     "output_type": "execute_result"
    }
   ],
   "source": [
    "# Natural base exponential\n",
    "exp(2)"
   ]
  },
  {
   "cell_type": "markdown",
   "id": "a0f64b09-f192-49da-a984-8616d5df9feb",
   "metadata": {},
   "source": [
    "### Defining new functions"
   ]
  },
  {
   "cell_type": "code",
   "execution_count": 168,
   "id": "7fa30c34-41c7-4529-b7b0-a5d702a5a25a",
   "metadata": {},
   "outputs": [
    {
     "data": {
      "text/plain": [
       "print_lines (generic function with 1 method)"
      ]
     },
     "execution_count": 168,
     "metadata": {},
     "output_type": "execute_result"
    }
   ],
   "source": [
    "# DEFINING A SIMPLE FUNCTION\n",
    "\n",
    "function print_lines() # Definies a function with print_lines name and no arguments\n",
    "    println(\"This is the first line\")\n",
    "    println(\"This is the second line\")\n",
    "end # Ends function call\n",
    "\n",
    "#  ; is not required but hides the output\n",
    "    "
   ]
  },
  {
   "cell_type": "code",
   "execution_count": 169,
   "id": "5d05f561-21c7-4079-bed6-b6f80aa93086",
   "metadata": {},
   "outputs": [
    {
     "name": "stdout",
     "output_type": "stream",
     "text": [
      "This is the first line\n",
      "This is the second line\n"
     ]
    }
   ],
   "source": [
    "print_lines()"
   ]
  },
  {
   "cell_type": "code",
   "execution_count": 170,
   "id": "9b8beccb-e36a-4058-ae77-f8ebc7bc6018",
   "metadata": {},
   "outputs": [
    {
     "data": {
      "text/plain": [
       "repeat_lines (generic function with 1 method)"
      ]
     },
     "execution_count": 170,
     "metadata": {},
     "output_type": "execute_result"
    }
   ],
   "source": [
    "# CALLING A FUNCTION INSDE A FUNCTION\n",
    "\n",
    "function repeat_lines()\n",
    "    print_lines() # Previously defined function\n",
    "    print_lines()\n",
    "end"
   ]
  },
  {
   "cell_type": "code",
   "execution_count": 171,
   "id": "8ccd69e2-3981-4af6-9788-0c5f535f83ad",
   "metadata": {},
   "outputs": [
    {
     "name": "stdout",
     "output_type": "stream",
     "text": [
      "This is the first line\n",
      "This is the second line\n",
      "This is the first line\n",
      "This is the second line\n"
     ]
    }
   ],
   "source": [
    "repeat_lines()"
   ]
  },
  {
   "cell_type": "code",
   "execution_count": 172,
   "id": "7fffc934-3b9c-4b3b-92d0-5c20196cb235",
   "metadata": {},
   "outputs": [
    {
     "data": {
      "text/plain": [
       "print_hello_someone (generic function with 1 method)"
      ]
     },
     "execution_count": 172,
     "metadata": {},
     "output_type": "execute_result"
    }
   ],
   "source": [
    "# SIMPLE FUNCTION WITH ARGUMENTS\n",
    "\n",
    "function print_hello_someone(name)\n",
    "    println(\"Hello \",name)\n",
    "end\n"
   ]
  },
  {
   "cell_type": "code",
   "execution_count": 173,
   "id": "08235e1b-358f-436f-96b5-8a81e1b9a9ab",
   "metadata": {},
   "outputs": [
    {
     "name": "stdout",
     "output_type": "stream",
     "text": [
      "Hello Ben\n"
     ]
    }
   ],
   "source": [
    "print_hello_someone(\"Ben\")"
   ]
  },
  {
   "cell_type": "markdown",
   "id": "ee09b653-faed-420a-a3fb-68816fda014e",
   "metadata": {},
   "source": []
  },
  {
   "cell_type": "code",
   "execution_count": null,
   "id": "15d09e52-ca28-4cf4-bf50-52560a6f7f00",
   "metadata": {},
   "outputs": [],
   "source": []
  },
  {
   "cell_type": "code",
   "execution_count": 174,
   "id": "250a95f8-d3a1-4764-a662-8c256110f776",
   "metadata": {},
   "outputs": [
    {
     "name": "stdout",
     "output_type": "stream",
     "text": [
      "x and y are equal\n"
     ]
    }
   ],
   "source": []
  },
  {
   "cell_type": "code",
   "execution_count": 175,
   "id": "f1036dd3-85ae-4484-94cb-c0cce3050fb0",
   "metadata": {},
   "outputs": [
    {
     "name": "stdout",
     "output_type": "stream",
     "text": [
      "x is less than y\n"
     ]
    }
   ],
   "source": []
  },
  {
   "cell_type": "code",
   "execution_count": 176,
   "id": "7823d728-a3f4-4571-aed9-61fef3c5d6ab",
   "metadata": {},
   "outputs": [
    {
     "name": "stdout",
     "output_type": "stream",
     "text": [
      "At least one variable is negative"
     ]
    }
   ],
   "source": []
  },
  {
   "cell_type": "code",
   "execution_count": 177,
   "id": "b538848b-1a95-4b53-a1b3-8f65079accd3",
   "metadata": {},
   "outputs": [
    {
     "name": "stdout",
     "output_type": "stream",
     "text": [
      "8 7 6 5 4 3 2 1 Blastoff!\n"
     ]
    }
   ],
   "source": []
  },
  {
   "cell_type": "markdown",
   "id": "8b031c14-b2e6-482a-b4c9-fd7f89f7dfa2",
   "metadata": {},
   "source": [
    "If infinite recursion is called ( funtion that will call itself forever ) Julia will report and `StackOverflowError`\n",
    "\n",
    "```\n",
    "function recurse()\n",
    "    recurse()\n",
    "end\n",
    "\n",
    "julia> recurse()\n",
    "ERROR: StackOverflowError:\n",
    "Stacktrace:\n",
    " [1] recurse() at ./REPL[1]:2 (repeats 80000 times)\n",
    "```"
   ]
  },
  {
   "cell_type": "markdown",
   "id": "fecf5435-d8f8-403b-839d-eee6a1500a2e",
   "metadata": {},
   "source": []
  },
  {
   "cell_type": "code",
   "execution_count": 178,
   "id": "b868a54a-51e1-4cac-a8b1-5658046768ad",
   "metadata": {},
   "outputs": [
    {
     "name": "stdin",
     "output_type": "stream",
     "text": [
      "stdin>  Input\n"
     ]
    },
    {
     "data": {
      "text/plain": [
       "\"Input\""
      ]
     },
     "execution_count": 178,
     "metadata": {},
     "output_type": "execute_result"
    }
   ],
   "source": []
  },
  {
   "cell_type": "code",
   "execution_count": 179,
   "id": "59e67388-ebd8-4341-a641-254278601d84",
   "metadata": {},
   "outputs": [
    {
     "name": "stdout",
     "output_type": "stream",
     "text": [
      "Give me some input\n"
     ]
    },
    {
     "name": "stdin",
     "output_type": "stream",
     "text": [
      "stdin>  My input\n"
     ]
    },
    {
     "data": {
      "text/plain": [
       "\"My input\""
      ]
     },
     "execution_count": 179,
     "metadata": {},
     "output_type": "execute_result"
    }
   ],
   "source": []
  }
 ],
 "metadata": {
  "kernelspec": {
   "display_name": "Julia 1.8.5",
   "language": "julia",
   "name": "julia-1.8"
  },
  "language_info": {
   "file_extension": ".jl",
   "mimetype": "application/julia",
   "name": "julia",
   "version": "1.8.5"
  }
 },
 "nbformat": 4,
 "nbformat_minor": 5
}
