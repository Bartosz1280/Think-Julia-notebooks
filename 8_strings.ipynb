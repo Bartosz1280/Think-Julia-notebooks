{
 "cells": [
  {
   "cell_type": "markdown",
   "id": "bec2a341-cb1c-4bf5-9d42-ed756a532773",
   "metadata": {},
   "source": [
    "# 8. Strings"
   ]
  },
  {
   "cell_type": "code",
   "execution_count": 7,
   "id": "1f993a27-4086-4b5f-b2f0-bbf4cb44335e",
   "metadata": {},
   "outputs": [
    {
     "data": {
      "text/plain": [
       "\"Mango\""
      ]
     },
     "execution_count": 7,
     "metadata": {},
     "output_type": "execute_result"
    }
   ],
   "source": [
    "fruit = \"Mango\""
   ]
  },
  {
   "cell_type": "code",
   "execution_count": 8,
   "id": "355467dd-db5a-4b5a-a277-4874b211ffd9",
   "metadata": {},
   "outputs": [
    {
     "data": {
      "text/plain": [
       "'M': ASCII/Unicode U+004D (category Lu: Letter, uppercase)"
      ]
     },
     "execution_count": 8,
     "metadata": {},
     "output_type": "execute_result"
    }
   ],
   "source": [
    "fruit[1] # Grab value by a single index"
   ]
  },
  {
   "cell_type": "code",
   "execution_count": 24,
   "id": "74092980-42ec-4c90-8e4e-9043b3a1c9f6",
   "metadata": {},
   "outputs": [
    {
     "data": {
      "text/plain": [
       "'o': ASCII/Unicode U+006F (category Ll: Letter, lowercase)"
      ]
     },
     "execution_count": 24,
     "metadata": {},
     "output_type": "execute_result"
    }
   ],
   "source": [
    "fruit[end] # Grab the last index"
   ]
  },
  {
   "cell_type": "code",
   "execution_count": 25,
   "id": "a1e56b60-0a12-411d-b7bc-7324896ba947",
   "metadata": {},
   "outputs": [
    {
     "data": {
      "text/plain": [
       "'a': ASCII/Unicode U+0061 (category Ll: Letter, lowercase)"
      ]
     },
     "execution_count": 25,
     "metadata": {},
     "output_type": "execute_result"
    }
   ],
   "source": [
    "fruit[1+1] # Grab the index by arithmetic operation"
   ]
  },
  {
   "cell_type": "code",
   "execution_count": 29,
   "id": "e8fb2ce9-0eb8-49e8-8e66-caa4911b9248",
   "metadata": {},
   "outputs": [
    {
     "data": {
      "text/plain": [
       "\"Man\""
      ]
     },
     "execution_count": 29,
     "metadata": {},
     "output_type": "execute_result"
    }
   ],
   "source": [
    "fruit[1:3] # Grab a slice"
   ]
  },
  {
   "cell_type": "code",
   "execution_count": 43,
   "id": "4d6de0a4-df08-415e-8fa2-47a1b03e9a78",
   "metadata": {},
   "outputs": [
    {
     "data": {
      "text/plain": [
       "\"ngo\""
      ]
     },
     "execution_count": 43,
     "metadata": {},
     "output_type": "execute_result"
    }
   ],
   "source": [
    "fruit[3:end] # Grab a slice from index 3 till the end"
   ]
  },
  {
   "cell_type": "code",
   "execution_count": 12,
   "id": "9a7fb765-8a38-45e6-af36-848d38a1725d",
   "metadata": {},
   "outputs": [
    {
     "data": {
      "text/plain": [
       "5"
      ]
     },
     "execution_count": 12,
     "metadata": {},
     "output_type": "execute_result"
    }
   ],
   "source": [
    "length(fruit) # Get the length of the iterable"
   ]
  },
  {
   "cell_type": "code",
   "execution_count": 15,
   "id": "46047fd2-31f4-4ba6-94f1-6a0498ff7974",
   "metadata": {},
   "outputs": [
    {
     "data": {
      "text/plain": [
       "'o': ASCII/Unicode U+006F (category Ll: Letter, lowercase)"
      ]
     },
     "execution_count": 15,
     "metadata": {},
     "output_type": "execute_result"
    }
   ],
   "source": [
    "fruit[length(fruit)] # Cast function output as a index value "
   ]
  },
  {
   "cell_type": "code",
   "execution_count": 16,
   "id": "e7ea721e-6c8b-444e-a5e1-008f0d49dcb2",
   "metadata": {},
   "outputs": [
    {
     "data": {
      "text/plain": [
       "5"
      ]
     },
     "execution_count": 16,
     "metadata": {},
     "output_type": "execute_result"
    }
   ],
   "source": [
    "sizeof(fruit) # Return size in bytes"
   ]
  },
  {
   "cell_type": "code",
   "execution_count": 40,
   "id": "32aee640-0ebf-4fa4-a49b-f4db9fd55374",
   "metadata": {},
   "outputs": [
    {
     "data": {
      "text/plain": [
       "5"
      ]
     },
     "execution_count": 40,
     "metadata": {},
     "output_type": "execute_result"
    }
   ],
   "source": [
    "length(fruit) # Iterable length"
   ]
  },
  {
   "cell_type": "markdown",
   "id": "41126739-99ea-482e-9f17-d57426fe82b3",
   "metadata": {},
   "source": [
    "### Traversal"
   ]
  },
  {
   "cell_type": "code",
   "execution_count": 23,
   "id": "447de4e2-69e2-475c-851b-0053df9289a4",
   "metadata": {},
   "outputs": [
    {
     "name": "stdout",
     "output_type": "stream",
     "text": [
      "🍌\n",
      " \n",
      "🍎\n",
      " \n",
      "🍐\n"
     ]
    }
   ],
   "source": [
    "fruits = \"🍌 🍎 🍐\" # String to be iterated\n",
    "index = firstindex(fruits) # Returns the first index of the iterable\n",
    "while index <= sizeof(fruits) # Iterates when the index is lower than length of iterable\n",
    "    letter = fruits[index]\n",
    "    println(letter) # Prints the index of the iterable\n",
    "    global index = nextind(fruits,index) # reassign variable to a new value, of the next index\n",
    "    # The value is defined outside of the loop\n",
    "end # ends the loop"
   ]
  },
  {
   "cell_type": "markdown",
   "id": "0054ab30-829e-49b9-96eb-03e5fe14066a",
   "metadata": {},
   "source": [
    "### Strings are immutable"
   ]
  },
  {
   "cell_type": "code",
   "execution_count": 45,
   "id": "ff8ca128-e83e-4daa-8c01-848452deb08b",
   "metadata": {},
   "outputs": [
    {
     "data": {
      "text/plain": [
       "\"Hello, word!\""
      ]
     },
     "execution_count": 45,
     "metadata": {},
     "output_type": "execute_result"
    }
   ],
   "source": [
    "greetings = \"Hello, word!\""
   ]
  },
  {
   "cell_type": "code",
   "execution_count": 48,
   "id": "2bd4644f-b0a4-4d1a-96cd-b4a7d3f64ec6",
   "metadata": {},
   "outputs": [
    {
     "ename": "LoadError",
     "evalue": "MethodError: no method matching setindex!(::String, ::String, ::Int64)",
     "output_type": "error",
     "traceback": [
      "MethodError: no method matching setindex!(::String, ::String, ::Int64)",
      "",
      "Stacktrace:",
      " [1] top-level scope",
      "   @ In[48]:1"
     ]
    }
   ],
   "source": [
    "greetings[1] = \"x\" # Cause an error since the string is immutable"
   ]
  },
  {
   "cell_type": "markdown",
   "id": "3887f7f2-23e4-4a10-8fd5-52691ae854d8",
   "metadata": {},
   "source": [
    "### String Interpolation"
   ]
  },
  {
   "cell_type": "code",
   "execution_count": 52,
   "id": "43539e8b-c742-4577-aa6d-7e8181fe1fa4",
   "metadata": {},
   "outputs": [
    {
     "data": {
      "text/plain": [
       "\"Hello, World!\""
      ]
     },
     "execution_count": 52,
     "metadata": {},
     "output_type": "execute_result"
    }
   ],
   "source": [
    "greet = \"Hello\"\n",
    "whom = \"World\"\n",
    "# Adding a $ sing calls a variable under the specified name\n",
    "# Variable name can be put into brackets  to  to separate it \n",
    "# From the letter that appears straight after it\n",
    "\"$greet, $(whom)!\""
   ]
  },
  {
   "cell_type": "code",
   "execution_count": 54,
   "id": "181d7fcb-cfca-4963-94c8-64780527ad70",
   "metadata": {},
   "outputs": [
    {
     "data": {
      "text/plain": [
       "\"1 + 2 = 3\""
      ]
     },
     "execution_count": 54,
     "metadata": {},
     "output_type": "execute_result"
    }
   ],
   "source": [
    "# Using a $ sign a result of the mathematical operation\n",
    "# Can be returned in a string\n",
    "\"1 + 2 = $(1 + 2)\""
   ]
  },
  {
   "cell_type": "markdown",
   "id": "8e620ff4-e574-4b70-94e0-31838cdf9397",
   "metadata": {},
   "source": [
    "### The ∈ and in Operator"
   ]
  },
  {
   "cell_type": "code",
   "execution_count": 67,
   "id": "66f1adf4-c9db-4561-b2e1-1e4cd8229048",
   "metadata": {},
   "outputs": [
    {
     "data": {
      "text/plain": [
       "true"
      ]
     },
     "execution_count": 67,
     "metadata": {},
     "output_type": "execute_result"
    }
   ],
   "source": [
    "'a' ∈ \"Banana\""
   ]
  },
  {
   "cell_type": "code",
   "execution_count": 76,
   "id": "e8ad9cd6-7195-4da9-a5cb-b2a0e5a85e22",
   "metadata": {},
   "outputs": [
    {
     "data": {
      "text/plain": [
       "true"
      ]
     },
     "execution_count": 76,
     "metadata": {},
     "output_type": "execute_result"
    }
   ],
   "source": [
    "'a' in \"Banana\""
   ]
  },
  {
   "cell_type": "markdown",
   "id": "1577cbcc-b0b7-4cc4-9b06-2088846f1352",
   "metadata": {},
   "source": [
    "### String Comparision"
   ]
  },
  {
   "cell_type": "code",
   "execution_count": 80,
   "id": "80beb547-e40a-41b5-995a-5d237ad23047",
   "metadata": {},
   "outputs": [
    {
     "name": "stdout",
     "output_type": "stream",
     "text": [
      "Wait! You didn't pass banna. You passed Pineapple, instead\n"
     ]
    }
   ],
   "source": [
    "word = \"Pineapple\"\n",
    "if word == \"banana\"\n",
    "    println(\"All right, banananas\")\n",
    "else\n",
    "    println(\"Wait! You didn't pass banna. You passed $word, instead\")\n",
    "end"
   ]
  },
  {
   "cell_type": "code",
   "execution_count": 83,
   "id": "32fca10d-dc52-4cc8-86ea-da5c4dc267dd",
   "metadata": {},
   "outputs": [
    {
     "name": "stdout",
     "output_type": "stream",
     "text": [
      "Your word, pineapple, comes after banana.\n"
     ]
    }
   ],
   "source": [
    "word = \"pineapple\"\n",
    "# In case the word starts with the capital letter\n",
    "# It will always be treated as a first before the lowesrcase\n",
    "\n",
    "if word < \"banana\"\n",
    "    println(\"Your word, $word, comes before banana.\")\n",
    "elseif word > \"banana\"\n",
    "    println(\"Your word, $word, comes after banana.\")\n",
    "else\n",
    "    println(\"All right, bananas.\")\n",
    "end"
   ]
  }
 ],
 "metadata": {
  "kernelspec": {
   "display_name": "Julia 1.8.5",
   "language": "julia",
   "name": "julia-1.8"
  },
  "language_info": {
   "file_extension": ".jl",
   "mimetype": "application/julia",
   "name": "julia",
   "version": "1.8.5"
  }
 },
 "nbformat": 4,
 "nbformat_minor": 5
}
